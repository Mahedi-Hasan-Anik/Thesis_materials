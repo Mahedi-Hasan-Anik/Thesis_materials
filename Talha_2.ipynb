{
  "nbformat": 4,
  "nbformat_minor": 0,
  "metadata": {
    "colab": {
      "provenance": [],
      "mount_file_id": "17KUTAxmQAmvVpTjSoias6CEjVJ5FLYra",
      "authorship_tag": "ABX9TyO6mdKvOfdTWXjo66h8wXQJ",
      "include_colab_link": true
    },
    "kernelspec": {
      "name": "python3",
      "display_name": "Python 3"
    },
    "language_info": {
      "name": "python"
    }
  },
  "cells": [
    {
      "cell_type": "markdown",
      "metadata": {
        "id": "view-in-github",
        "colab_type": "text"
      },
      "source": [
        "<a href=\"https://colab.research.google.com/github/Mahedi-Hasan-Anik/Thesis_materials/blob/main/Talha_2.ipynb\" target=\"_parent\"><img src=\"https://colab.research.google.com/assets/colab-badge.svg\" alt=\"Open In Colab\"/></a>"
      ]
    },
    {
      "cell_type": "code",
      "source": [
        "from glob import glob\n",
        "import os\n",
        "!pip install mne\n",
        "import mne\n",
        "import numpy as np\n",
        "import matplotlib.pyplot as plt\n",
        "import pandas as pd"
      ],
      "metadata": {
        "colab": {
          "base_uri": "https://localhost:8080/"
        },
        "id": "dyvM2wb6CYXg",
        "outputId": "03f636bb-db69-4f70-d873-73768c58f9b3"
      },
      "execution_count": 4,
      "outputs": [
        {
          "output_type": "stream",
          "name": "stdout",
          "text": [
            "Installing collected packages: mne\n",
            "Successfully installed mne-1.7.0\n"
          ]
        }
      ]
    },
    {
      "cell_type": "code",
      "source": [
        "all_files_path=glob('/content/drive/MyDrive/dataverse/*.edf')\n",
        "print(len(all_files_path))"
      ],
      "metadata": {
        "colab": {
          "base_uri": "https://localhost:8080/"
        },
        "id": "WAbVn5EqD7m6",
        "outputId": "9ea58627-fbf6-4c36-cc36-2f260479aead"
      },
      "execution_count": 7,
      "outputs": [
        {
          "output_type": "stream",
          "name": "stdout",
          "text": [
            "28\n"
          ]
        }
      ]
    },
    {
      "cell_type": "code",
      "source": [
        "healthy_file_path=[i for i in all_files_path if  'h' in i.split('/content/drive/MyDrive/dataverse/')[1]]\n",
        "patient_file_path=[i for i in all_files_path if  's' in i.split('/content/drive/MyDrive/dataverse/')[1]]"
      ],
      "metadata": {
        "id": "L0GR8EfxD_jE"
      },
      "execution_count": 9,
      "outputs": []
    },
    {
      "cell_type": "code",
      "source": [
        "def read_data(file_path):\n",
        "    datax=mne.io.read_raw_edf(file_path,preload=True)\n",
        "    datax.set_eeg_reference()\n",
        "    datax.filter(l_freq=1,h_freq=45)\n",
        "    epochs=mne.make_fixed_length_epochs(datax,duration=25,overlap=0)\n",
        "    epochs=epochs.get_data()\n",
        "    return epochs"
      ],
      "metadata": {
        "id": "N-AJZxNIEBhE"
      },
      "execution_count": 10,
      "outputs": []
    },
    {
      "cell_type": "code",
      "source": [
        "data=read_data(healthy_file_path[0])"
      ],
      "metadata": {
        "id": "vCnJaSJVFWBi"
      },
      "execution_count": null,
      "outputs": []
    },
    {
      "cell_type": "code",
      "source": [
        "control_epochs_array=[read_data(subject) for subject in healthy_file_path]\n",
        "patients_epochs_array=[read_data(subject) for subject in patient_file_path]"
      ],
      "metadata": {
        "id": "d8hIp0WlFeoo"
      },
      "execution_count": null,
      "outputs": []
    },
    {
      "cell_type": "code",
      "source": [
        "control_epochs_labels=[len(i)*[0] for i in control_epochs_array]\n",
        "patients_epochs_labels=[len(i)*[1] for i in patients_epochs_array]\n",
        "print(len(control_epochs_labels),len(patients_epochs_labels))"
      ],
      "metadata": {
        "colab": {
          "base_uri": "https://localhost:8080/"
        },
        "id": "ix9Z4WrSFuhx",
        "outputId": "9ca5c074-13c4-415c-d63d-5e00cf49a385"
      },
      "execution_count": 13,
      "outputs": [
        {
          "output_type": "stream",
          "name": "stdout",
          "text": [
            "14 14\n"
          ]
        }
      ]
    },
    {
      "cell_type": "code",
      "source": [
        "data_list=control_epochs_array+patients_epochs_array\n",
        "label_list=control_epochs_labels+patients_epochs_labels\n",
        "print(len(data_list),len(label_list))"
      ],
      "metadata": {
        "colab": {
          "base_uri": "https://localhost:8080/"
        },
        "id": "wegh7_cjFyiL",
        "outputId": "bbcbd2e1-3948-4b01-e2f5-3c091bb857e4"
      },
      "execution_count": 14,
      "outputs": [
        {
          "output_type": "stream",
          "name": "stdout",
          "text": [
            "28 28\n"
          ]
        }
      ]
    },
    {
      "cell_type": "code",
      "source": [
        "groups_list=[[i]*len(j) for i, j in enumerate(data_list)]"
      ],
      "metadata": {
        "id": "R9QNtxJJF2Cl"
      },
      "execution_count": 15,
      "outputs": []
    },
    {
      "cell_type": "code",
      "source": [
        "data_array=np.vstack(data_list)\n",
        "label_array=np.hstack(label_list)\n",
        "group_array=np.hstack(groups_list)\n",
        "data_array=np.moveaxis(data_array,1,2)\n",
        "\n",
        "print(data_array.shape,label_array.shape,group_array.shape)"
      ],
      "metadata": {
        "colab": {
          "base_uri": "https://localhost:8080/"
        },
        "id": "4VF39j3zF4nS",
        "outputId": "4dcf7357-6d40-4f0e-cf54-13ac80e42d58"
      },
      "execution_count": 16,
      "outputs": [
        {
          "output_type": "stream",
          "name": "stdout",
          "text": [
            "(1142, 6250, 19) (1142,) (1142,)\n"
          ]
        }
      ]
    },
    {
      "cell_type": "code",
      "source": [
        "from tensorflow.keras.layers import Conv1D,BatchNormalization,LeakyReLU,MaxPool1D,\\\n",
        "GlobalAveragePooling1D,Dense,Dropout,AveragePooling1D\n",
        "from tensorflow.keras.models import Sequential\n",
        "from tensorflow.keras.backend import clear_session\n",
        "def cnnmodel():\n",
        "    clear_session()\n",
        "    model=Sequential()\n",
        "    model.add(Conv1D(filters=5,kernel_size=3,strides=1,input_shape=(6250,19)))#1\n",
        "    model.add(BatchNormalization())\n",
        "    model.add(LeakyReLU())\n",
        "    model.add(MaxPool1D(pool_size=2,strides=2))#2\n",
        "    model.add(Conv1D(filters=5,kernel_size=3,strides=1))#3\n",
        "    model.add(LeakyReLU())\n",
        "    model.add(MaxPool1D(pool_size=2,strides=2))#4\n",
        "    model.add(Dropout(0.5))\n",
        "    model.add(Conv1D(filters=5,kernel_size=3,strides=1))#5\n",
        "    model.add(LeakyReLU())\n",
        "    model.add(AveragePooling1D(pool_size=2,strides=2))#6\n",
        "    model.add(Dropout(0.5))\n",
        "    model.add(Conv1D(filters=5,kernel_size=3,strides=1))#7\n",
        "    model.add(LeakyReLU())\n",
        "    model.add(AveragePooling1D(pool_size=2,strides=2))#8\n",
        "    model.add(Conv1D(filters=5,kernel_size=3,strides=1))#9\n",
        "    model.add(LeakyReLU())\n",
        "    model.add(GlobalAveragePooling1D())#10\n",
        "    model.add(Dense(1,activation='sigmoid'))#11\n",
        "\n",
        "    model.compile('adam',loss='binary_crossentropy',metrics=['accuracy'])\n",
        "    return model\n",
        "\n",
        "model=cnnmodel()\n",
        "model.summary()"
      ],
      "metadata": {
        "id": "ZIPXbcwYGSgA"
      },
      "execution_count": null,
      "outputs": []
    },
    {
      "cell_type": "code",
      "source": [
        "from sklearn.model_selection import GroupKFold,LeaveOneGroupOut\n",
        "from sklearn.preprocessing import StandardScaler\n",
        "gkf=GroupKFold()"
      ],
      "metadata": {
        "id": "-_5gPqIpGd0K"
      },
      "execution_count": 18,
      "outputs": []
    },
    {
      "cell_type": "code",
      "source": [
        "accuracy=[]\n",
        "for train_index, val_index in gkf.split(data_array, label_array, groups=group_array):\n",
        "    train_features,train_labels=data_array[train_index],label_array[train_index]\n",
        "    val_features,val_labels=data_array[val_index],label_array[val_index]\n",
        "    scaler=StandardScaler()\n",
        "    train_features = scaler.fit_transform(train_features.reshape(-1, train_features.shape[-1])).reshape(train_features.shape)\n",
        "    val_features = scaler.transform(val_features.reshape(-1, val_features.shape[-1])).reshape(val_features.shape)\n",
        "    model=cnnmodel()\n",
        "    model.fit(train_features,train_labels,epochs=50,batch_size=128,validation_data=(val_features,val_labels))\n",
        "    accuracy.append(model.evaluate(val_features,val_labels)[1])\n"
      ],
      "metadata": {
        "colab": {
          "base_uri": "https://localhost:8080/"
        },
        "id": "TkdyvbxSGhqC",
        "outputId": "33b634cf-d5fc-4321-e1fc-30715ae3c266"
      },
      "execution_count": 19,
      "outputs": [
        {
          "output_type": "stream",
          "name": "stdout",
          "text": [
            "\b\b\b\b\b\b\b\b\b\b\b\b\b\b\b\b\b\b\b\b\b\b\b\b\b\b\b\b\b\b\b\b\b\b\b\b\b\b\b\b\b\b\b\b\b\b\b\b\b\b\b\b\b\b\b\b\b\b\b\b\b\b\b\b\b\b\b\b\b\b\b\b\b\b\b\b\b\b\b\b\r8/8 [==============================] - 5s 580ms/step - loss: 0.6768 - accuracy: 0.5267 - val_loss: 0.6484 - val_accuracy: 0.6456\n",
            "Epoch 7/50\n",
            "8/8 [==============================] - 8s 977ms/step - loss: 0.6740 - accuracy: 0.5267 - val_loss: 0.6443 - val_accuracy: 0.6456\n",
            "Epoch 8/50\n",
            "8/8 [==============================] - 9s 1s/step - loss: 0.6714 - accuracy: 0.5491 - val_loss: 0.6445 - val_accuracy: 0.6602\n",
            "Epoch 9/50\n",
            "8/8 [==============================] - 5s 551ms/step - loss: 0.6628 - accuracy: 0.5652 - val_loss: 0.6471 - val_accuracy: 0.7718\n",
            "Epoch 10/50\n",
            "8/8 [==============================] - 5s 692ms/step - loss: 0.6527 - accuracy: 0.5470 - val_loss: 0.6410 - val_accuracy: 0.7573\n",
            "Epoch 11/50\n",
            "8/8 [==============================] - 6s 733ms/step - loss: 0.6493 - accuracy: 0.5524 - val_loss: 0.6436 - val_accuracy: 0.6650\n",
            "Epoch 12/50\n",
            "8/8 [==============================] - 4s 490ms/step - loss: 0.6452 - accuracy: 0.5524 - val_loss: 0.6559 - val_accuracy: 0.5534\n",
            "Epoch 13/50\n",
            "8/8 [==============================] - 4s 502ms/step - loss: 0.6330 - accuracy: 0.6197 - val_loss: 0.6506 - val_accuracy: 0.5534\n",
            "Epoch 14/50\n",
            "8/8 [==============================] - 6s 732ms/step - loss: 0.6252 - accuracy: 0.6079 - val_loss: 0.6470 - val_accuracy: 0.5583\n",
            "Epoch 15/50\n",
            "8/8 [==============================] - 4s 539ms/step - loss: 0.6197 - accuracy: 0.6453 - val_loss: 0.6490 - val_accuracy: 0.5388\n",
            "Epoch 16/50\n",
            "8/8 [==============================] - 4s 545ms/step - loss: 0.6129 - accuracy: 0.6325 - val_loss: 0.6312 - val_accuracy: 0.5825\n",
            "Epoch 17/50\n",
            "8/8 [==============================] - 7s 864ms/step - loss: 0.6147 - accuracy: 0.6549 - val_loss: 0.6863 - val_accuracy: 0.5000\n",
            "Epoch 18/50\n",
            "8/8 [==============================] - 4s 496ms/step - loss: 0.6050 - accuracy: 0.6795 - val_loss: 0.6714 - val_accuracy: 0.5146\n",
            "Epoch 19/50\n",
            "8/8 [==============================] - 4s 490ms/step - loss: 0.5917 - accuracy: 0.6976 - val_loss: 0.6570 - val_accuracy: 0.5534\n",
            "Epoch 20/50\n",
            "8/8 [==============================] - 8s 1s/step - loss: 0.5695 - accuracy: 0.7190 - val_loss: 0.6324 - val_accuracy: 0.5825\n",
            "Epoch 21/50\n",
            "8/8 [==============================] - 4s 545ms/step - loss: 0.5747 - accuracy: 0.7073 - val_loss: 0.6482 - val_accuracy: 0.5777\n",
            "Epoch 22/50\n",
            "8/8 [==============================] - 4s 511ms/step - loss: 0.5712 - accuracy: 0.6966 - val_loss: 0.6968 - val_accuracy: 0.5049\n",
            "Epoch 23/50\n",
            "8/8 [==============================] - 6s 732ms/step - loss: 0.5743 - accuracy: 0.7115 - val_loss: 0.6917 - val_accuracy: 0.5340\n",
            "Epoch 24/50\n",
            "8/8 [==============================] - 4s 539ms/step - loss: 0.5589 - accuracy: 0.7308 - val_loss: 0.6385 - val_accuracy: 0.5874\n",
            "Epoch 25/50\n",
            "8/8 [==============================] - 4s 495ms/step - loss: 0.5439 - accuracy: 0.7425 - val_loss: 0.6129 - val_accuracy: 0.5971\n",
            "Epoch 26/50\n",
            "8/8 [==============================] - 5s 699ms/step - loss: 0.5436 - accuracy: 0.7308 - val_loss: 0.6630 - val_accuracy: 0.5728\n",
            "Epoch 27/50\n",
            "8/8 [==============================] - 4s 508ms/step - loss: 0.5306 - accuracy: 0.7318 - val_loss: 0.6274 - val_accuracy: 0.6019\n",
            "Epoch 28/50\n",
            "8/8 [==============================] - 4s 543ms/step - loss: 0.5433 - accuracy: 0.7147 - val_loss: 0.6572 - val_accuracy: 0.5825\n",
            "Epoch 29/50\n",
            "8/8 [==============================] - 5s 708ms/step - loss: 0.5147 - accuracy: 0.7521 - val_loss: 0.6278 - val_accuracy: 0.5971\n",
            "Epoch 30/50\n",
            "8/8 [==============================] - 5s 595ms/step - loss: 0.5130 - accuracy: 0.7618 - val_loss: 0.6010 - val_accuracy: 0.6068\n",
            "Epoch 31/50\n",
            "8/8 [==============================] - 4s 549ms/step - loss: 0.5061 - accuracy: 0.7650 - val_loss: 0.6570 - val_accuracy: 0.5777\n",
            "Epoch 32/50\n",
            "8/8 [==============================] - 6s 794ms/step - loss: 0.5190 - accuracy: 0.7489 - val_loss: 0.7157 - val_accuracy: 0.5485\n",
            "Epoch 33/50\n",
            "8/8 [==============================] - 4s 515ms/step - loss: 0.4800 - accuracy: 0.7885 - val_loss: 0.5351 - val_accuracy: 0.6602\n",
            "Epoch 34/50\n",
            "8/8 [==============================] - 4s 503ms/step - loss: 0.4994 - accuracy: 0.7660 - val_loss: 0.6012 - val_accuracy: 0.6019\n",
            "Epoch 35/50\n",
            "8/8 [==============================] - 6s 785ms/step - loss: 0.4827 - accuracy: 0.7532 - val_loss: 0.6631 - val_accuracy: 0.5583\n",
            "Epoch 36/50\n",
            "8/8 [==============================] - 4s 510ms/step - loss: 0.4526 - accuracy: 0.8024 - val_loss: 0.4931 - val_accuracy: 0.6990\n",
            "Epoch 37/50\n",
            "8/8 [==============================] - 4s 506ms/step - loss: 0.4759 - accuracy: 0.7885 - val_loss: 0.5480 - val_accuracy: 0.6505\n",
            "Epoch 38/50\n",
            "8/8 [==============================] - 6s 739ms/step - loss: 0.4376 - accuracy: 0.8216 - val_loss: 0.5402 - val_accuracy: 0.6456\n",
            "Epoch 39/50\n",
            "8/8 [==============================] - 4s 543ms/step - loss: 0.4245 - accuracy: 0.8162 - val_loss: 0.5313 - val_accuracy: 0.6456\n",
            "Epoch 40/50\n",
            "8/8 [==============================] - 4s 545ms/step - loss: 0.4344 - accuracy: 0.8088 - val_loss: 0.4871 - val_accuracy: 0.6893\n",
            "Epoch 41/50\n",
            "8/8 [==============================] - 6s 742ms/step - loss: 0.4282 - accuracy: 0.8259 - val_loss: 0.5429 - val_accuracy: 0.6359\n",
            "Epoch 42/50\n",
            "8/8 [==============================] - 4s 542ms/step - loss: 0.4186 - accuracy: 0.8216 - val_loss: 0.5088 - val_accuracy: 0.6650\n",
            "Epoch 43/50\n",
            "8/8 [==============================] - 4s 500ms/step - loss: 0.3897 - accuracy: 0.8536 - val_loss: 0.4238 - val_accuracy: 0.7718\n",
            "Epoch 44/50\n",
            "8/8 [==============================] - 6s 737ms/step - loss: 0.3838 - accuracy: 0.8536 - val_loss: 0.5106 - val_accuracy: 0.6796\n",
            "Epoch 45/50\n",
            "8/8 [==============================] - 4s 496ms/step - loss: 0.3830 - accuracy: 0.8408 - val_loss: 0.4185 - val_accuracy: 0.8350\n",
            "Epoch 46/50\n",
            "8/8 [==============================] - 4s 542ms/step - loss: 0.3401 - accuracy: 0.8857 - val_loss: 0.4225 - val_accuracy: 0.8058\n",
            "Epoch 47/50\n",
            "8/8 [==============================] - 6s 779ms/step - loss: 0.3517 - accuracy: 0.8750 - val_loss: 0.4096 - val_accuracy: 0.8350\n",
            "Epoch 48/50\n",
            "8/8 [==============================] - 4s 545ms/step - loss: 0.3229 - accuracy: 0.8878 - val_loss: 0.3809 - val_accuracy: 0.8495\n",
            "Epoch 49/50\n",
            "8/8 [==============================] - 4s 501ms/step - loss: 0.3165 - accuracy: 0.8878 - val_loss: 0.4105 - val_accuracy: 0.8641\n",
            "Epoch 50/50\n",
            "8/8 [==============================] - 6s 738ms/step - loss: 0.3231 - accuracy: 0.8835 - val_loss: 0.3720 - val_accuracy: 0.8301\n",
            "7/7 [==============================] - 0s 44ms/step - loss: 0.3720 - accuracy: 0.8301\n",
            "Epoch 1/50\n",
            "8/8 [==============================] - 9s 888ms/step - loss: 0.6759 - accuracy: 0.5606 - val_loss: 0.6965 - val_accuracy: 0.5000\n",
            "Epoch 2/50\n",
            "8/8 [==============================] - 4s 538ms/step - loss: 0.6707 - accuracy: 0.5606 - val_loss: 0.6969 - val_accuracy: 0.5000\n",
            "Epoch 3/50\n",
            "8/8 [==============================] - 4s 539ms/step - loss: 0.6678 - accuracy: 0.5606 - val_loss: 0.6985 - val_accuracy: 0.5000\n",
            "Epoch 4/50\n",
            "8/8 [==============================] - 6s 768ms/step - loss: 0.6609 - accuracy: 0.5606 - val_loss: 0.6999 - val_accuracy: 0.5000\n",
            "Epoch 5/50\n",
            "8/8 [==============================] - 4s 540ms/step - loss: 0.6604 - accuracy: 0.5606 - val_loss: 0.6993 - val_accuracy: 0.5000\n",
            "Epoch 6/50\n",
            "8/8 [==============================] - 4s 497ms/step - loss: 0.6525 - accuracy: 0.5606 - val_loss: 0.6944 - val_accuracy: 0.5000\n",
            "Epoch 7/50\n",
            "8/8 [==============================] - 6s 776ms/step - loss: 0.6418 - accuracy: 0.5606 - val_loss: 0.6922 - val_accuracy: 0.5000\n",
            "Epoch 8/50\n",
            "8/8 [==============================] - 4s 503ms/step - loss: 0.6389 - accuracy: 0.5617 - val_loss: 0.6904 - val_accuracy: 0.5000\n",
            "Epoch 9/50\n",
            "8/8 [==============================] - 4s 544ms/step - loss: 0.6304 - accuracy: 0.5639 - val_loss: 0.6913 - val_accuracy: 0.5000\n",
            "Epoch 10/50\n",
            "8/8 [==============================] - 6s 776ms/step - loss: 0.6272 - accuracy: 0.5716 - val_loss: 0.6907 - val_accuracy: 0.5000\n",
            "Epoch 11/50\n",
            "8/8 [==============================] - 4s 529ms/step - loss: 0.6177 - accuracy: 0.5782 - val_loss: 0.6911 - val_accuracy: 0.5000\n",
            "Epoch 12/50\n",
            "8/8 [==============================] - 4s 538ms/step - loss: 0.6124 - accuracy: 0.5903 - val_loss: 0.6879 - val_accuracy: 0.5214\n",
            "Epoch 13/50\n",
            "8/8 [==============================] - 7s 926ms/step - loss: 0.6049 - accuracy: 0.6013 - val_loss: 0.6891 - val_accuracy: 0.5299\n",
            "Epoch 14/50\n",
            "8/8 [==============================] - 4s 496ms/step - loss: 0.5946 - accuracy: 0.6189 - val_loss: 0.6881 - val_accuracy: 0.5556\n",
            "Epoch 15/50\n",
            "8/8 [==============================] - 4s 535ms/step - loss: 0.5878 - accuracy: 0.6443 - val_loss: 0.6860 - val_accuracy: 0.5897\n",
            "Epoch 16/50\n",
            "8/8 [==============================] - 6s 741ms/step - loss: 0.5775 - accuracy: 0.6520 - val_loss: 0.6870 - val_accuracy: 0.5812\n",
            "Epoch 17/50\n",
            "8/8 [==============================] - 4s 500ms/step - loss: 0.5808 - accuracy: 0.6696 - val_loss: 0.6890 - val_accuracy: 0.5812\n",
            "Epoch 18/50\n",
            "8/8 [==============================] - 4s 530ms/step - loss: 0.5632 - accuracy: 0.6938 - val_loss: 0.6891 - val_accuracy: 0.5684\n",
            "Epoch 19/50\n",
            "8/8 [==============================] - 6s 732ms/step - loss: 0.5575 - accuracy: 0.6828 - val_loss: 0.6868 - val_accuracy: 0.6026\n",
            "Epoch 20/50\n",
            "8/8 [==============================] - 4s 497ms/step - loss: 0.5434 - accuracy: 0.7434 - val_loss: 0.6893 - val_accuracy: 0.6111\n",
            "Epoch 21/50\n",
            "8/8 [==============================] - 4s 545ms/step - loss: 0.5356 - accuracy: 0.7467 - val_loss: 0.6934 - val_accuracy: 0.5940\n",
            "Epoch 22/50\n",
            "8/8 [==============================] - 6s 728ms/step - loss: 0.5412 - accuracy: 0.7203 - val_loss: 0.6987 - val_accuracy: 0.5769\n",
            "Epoch 23/50\n",
            "8/8 [==============================] - 4s 539ms/step - loss: 0.5200 - accuracy: 0.7731 - val_loss: 0.6968 - val_accuracy: 0.6111\n",
            "Epoch 24/50\n",
            "8/8 [==============================] - 4s 493ms/step - loss: 0.5099 - accuracy: 0.7720 - val_loss: 0.6995 - val_accuracy: 0.6197\n",
            "Epoch 25/50\n",
            "8/8 [==============================] - 6s 725ms/step - loss: 0.5006 - accuracy: 0.7775 - val_loss: 0.7045 - val_accuracy: 0.6197\n",
            "Epoch 26/50\n",
            "8/8 [==============================] - 4s 487ms/step - loss: 0.4839 - accuracy: 0.7930 - val_loss: 0.7091 - val_accuracy: 0.6282\n",
            "Epoch 27/50\n",
            "8/8 [==============================] - 4s 507ms/step - loss: 0.4654 - accuracy: 0.8194 - val_loss: 0.7159 - val_accuracy: 0.6239\n",
            "Epoch 28/50\n",
            "8/8 [==============================] - 5s 677ms/step - loss: 0.4516 - accuracy: 0.8095 - val_loss: 0.7369 - val_accuracy: 0.6154\n",
            "Epoch 29/50\n",
            "8/8 [==============================] - 4s 510ms/step - loss: 0.4371 - accuracy: 0.8238 - val_loss: 0.7450 - val_accuracy: 0.6325\n",
            "Epoch 30/50\n",
            "8/8 [==============================] - 4s 497ms/step - loss: 0.4171 - accuracy: 0.8359 - val_loss: 0.7632 - val_accuracy: 0.6410\n",
            "Epoch 31/50\n",
            "8/8 [==============================] - 6s 739ms/step - loss: 0.4002 - accuracy: 0.8436 - val_loss: 0.7973 - val_accuracy: 0.6538\n",
            "Epoch 32/50\n",
            "8/8 [==============================] - 4s 532ms/step - loss: 0.3912 - accuracy: 0.8348 - val_loss: 0.7952 - val_accuracy: 0.6496\n",
            "Epoch 33/50\n",
            "8/8 [==============================] - 4s 544ms/step - loss: 0.3696 - accuracy: 0.8491 - val_loss: 0.9364 - val_accuracy: 0.5385\n",
            "Epoch 34/50\n",
            "8/8 [==============================] - 6s 729ms/step - loss: 0.3572 - accuracy: 0.8590 - val_loss: 0.9149 - val_accuracy: 0.5726\n",
            "Epoch 35/50\n",
            "8/8 [==============================] - 4s 539ms/step - loss: 0.3643 - accuracy: 0.8403 - val_loss: 0.8588 - val_accuracy: 0.6880\n",
            "Epoch 36/50\n",
            "8/8 [==============================] - 4s 548ms/step - loss: 0.3479 - accuracy: 0.8645 - val_loss: 1.0374 - val_accuracy: 0.5812\n",
            "Epoch 37/50\n",
            "8/8 [==============================] - 6s 761ms/step - loss: 0.3151 - accuracy: 0.8822 - val_loss: 0.9721 - val_accuracy: 0.6453\n",
            "Epoch 38/50\n",
            "8/8 [==============================] - 4s 500ms/step - loss: 0.2849 - accuracy: 0.8921 - val_loss: 1.0958 - val_accuracy: 0.5684\n",
            "Epoch 39/50\n",
            "8/8 [==============================] - 4s 499ms/step - loss: 0.2896 - accuracy: 0.8844 - val_loss: 1.0714 - val_accuracy: 0.6026\n",
            "Epoch 40/50\n",
            "8/8 [==============================] - 6s 738ms/step - loss: 0.2787 - accuracy: 0.8921 - val_loss: 1.2360 - val_accuracy: 0.5641\n",
            "Epoch 41/50\n",
            "8/8 [==============================] - 4s 488ms/step - loss: 0.2645 - accuracy: 0.9075 - val_loss: 1.3108 - val_accuracy: 0.5726\n",
            "Epoch 42/50\n",
            "8/8 [==============================] - 4s 531ms/step - loss: 0.2654 - accuracy: 0.8987 - val_loss: 1.3235 - val_accuracy: 0.5513\n",
            "Epoch 43/50\n",
            "8/8 [==============================] - 6s 840ms/step - loss: 0.2335 - accuracy: 0.9130 - val_loss: 1.4922 - val_accuracy: 0.5427\n",
            "Epoch 44/50\n",
            "8/8 [==============================] - 4s 542ms/step - loss: 0.2355 - accuracy: 0.9207 - val_loss: 1.3553 - val_accuracy: 0.5726\n",
            "Epoch 45/50\n",
            "8/8 [==============================] - 4s 536ms/step - loss: 0.2169 - accuracy: 0.9251 - val_loss: 1.5253 - val_accuracy: 0.5769\n",
            "Epoch 46/50\n",
            "8/8 [==============================] - 6s 764ms/step - loss: 0.2130 - accuracy: 0.9273 - val_loss: 1.6508 - val_accuracy: 0.5470\n",
            "Epoch 47/50\n",
            "8/8 [==============================] - 4s 548ms/step - loss: 0.1996 - accuracy: 0.9405 - val_loss: 1.8481 - val_accuracy: 0.5513\n",
            "Epoch 48/50\n",
            "8/8 [==============================] - 4s 536ms/step - loss: 0.2135 - accuracy: 0.9218 - val_loss: 1.7094 - val_accuracy: 0.5556\n",
            "Epoch 49/50\n",
            "8/8 [==============================] - 6s 765ms/step - loss: 0.1885 - accuracy: 0.9262 - val_loss: 2.2502 - val_accuracy: 0.5342\n",
            "Epoch 50/50\n",
            "8/8 [==============================] - 4s 529ms/step - loss: 0.1884 - accuracy: 0.9350 - val_loss: 1.9888 - val_accuracy: 0.5513\n",
            "8/8 [==============================] - 0s 45ms/step - loss: 1.9888 - accuracy: 0.5513\n",
            "Epoch 1/50\n",
            "8/8 [==============================] - 8s 821ms/step - loss: 0.7382 - accuracy: 0.4117 - val_loss: 0.6895 - val_accuracy: 0.6059\n",
            "Epoch 2/50\n",
            "8/8 [==============================] - 4s 539ms/step - loss: 0.7145 - accuracy: 0.4051 - val_loss: 0.6990 - val_accuracy: 0.3898\n",
            "Epoch 3/50\n",
            "8/8 [==============================] - 4s 534ms/step - loss: 0.7004 - accuracy: 0.4260 - val_loss: 0.7070 - val_accuracy: 0.3941\n",
            "Epoch 4/50\n",
            "8/8 [==============================] - 6s 674ms/step - loss: 0.6909 - accuracy: 0.5585 - val_loss: 0.7167 - val_accuracy: 0.3941\n",
            "Epoch 5/50\n",
            "8/8 [==============================] - 4s 533ms/step - loss: 0.6817 - accuracy: 0.5883 - val_loss: 0.7276 - val_accuracy: 0.3941\n",
            "Epoch 6/50\n",
            "8/8 [==============================] - 4s 538ms/step - loss: 0.6763 - accuracy: 0.5883 - val_loss: 0.7375 - val_accuracy: 0.3941\n",
            "Epoch 7/50\n",
            "8/8 [==============================] - 6s 673ms/step - loss: 0.6736 - accuracy: 0.5883 - val_loss: 0.7493 - val_accuracy: 0.3941\n",
            "Epoch 8/50\n",
            "8/8 [==============================] - 4s 495ms/step - loss: 0.6708 - accuracy: 0.5883 - val_loss: 0.7566 - val_accuracy: 0.3941\n",
            "Epoch 9/50\n",
            "8/8 [==============================] - 4s 531ms/step - loss: 0.6731 - accuracy: 0.5883 - val_loss: 0.7627 - val_accuracy: 0.3941\n",
            "Epoch 10/50\n",
            "8/8 [==============================] - 6s 685ms/step - loss: 0.6708 - accuracy: 0.5883 - val_loss: 0.7592 - val_accuracy: 0.3941\n",
            "Epoch 11/50\n",
            "8/8 [==============================] - 4s 499ms/step - loss: 0.6687 - accuracy: 0.5883 - val_loss: 0.7509 - val_accuracy: 0.3941\n",
            "Epoch 12/50\n",
            "8/8 [==============================] - 6s 776ms/step - loss: 0.6660 - accuracy: 0.5883 - val_loss: 0.7519 - val_accuracy: 0.3941\n",
            "Epoch 13/50\n",
            "8/8 [==============================] - 5s 642ms/step - loss: 0.6641 - accuracy: 0.5883 - val_loss: 0.7501 - val_accuracy: 0.3941\n",
            "Epoch 14/50\n",
            "8/8 [==============================] - 4s 539ms/step - loss: 0.6624 - accuracy: 0.5883 - val_loss: 0.7467 - val_accuracy: 0.3941\n",
            "Epoch 15/50\n",
            "8/8 [==============================] - 4s 526ms/step - loss: 0.6586 - accuracy: 0.5883 - val_loss: 0.7451 - val_accuracy: 0.3941\n",
            "Epoch 16/50\n",
            "8/8 [==============================] - 6s 658ms/step - loss: 0.6581 - accuracy: 0.5883 - val_loss: 0.7470 - val_accuracy: 0.3941\n",
            "Epoch 17/50\n",
            "8/8 [==============================] - 4s 495ms/step - loss: 0.6550 - accuracy: 0.5883 - val_loss: 0.7409 - val_accuracy: 0.3941\n",
            "Epoch 18/50\n",
            "8/8 [==============================] - 4s 533ms/step - loss: 0.6491 - accuracy: 0.5883 - val_loss: 0.7351 - val_accuracy: 0.3941\n",
            "Epoch 19/50\n",
            "8/8 [==============================] - 6s 711ms/step - loss: 0.6447 - accuracy: 0.5883 - val_loss: 0.7321 - val_accuracy: 0.3941\n",
            "Epoch 20/50\n",
            "8/8 [==============================] - 4s 489ms/step - loss: 0.6430 - accuracy: 0.5883 - val_loss: 0.7296 - val_accuracy: 0.3941\n",
            "Epoch 21/50\n",
            "8/8 [==============================] - 4s 529ms/step - loss: 0.6419 - accuracy: 0.5883 - val_loss: 0.7265 - val_accuracy: 0.3941\n",
            "Epoch 22/50\n",
            "8/8 [==============================] - 6s 728ms/step - loss: 0.6347 - accuracy: 0.5883 - val_loss: 0.7138 - val_accuracy: 0.3941\n",
            "Epoch 23/50\n",
            "8/8 [==============================] - 4s 530ms/step - loss: 0.6302 - accuracy: 0.6148 - val_loss: 0.7037 - val_accuracy: 0.3941\n",
            "Epoch 24/50\n",
            "8/8 [==============================] - 4s 487ms/step - loss: 0.6241 - accuracy: 0.6038 - val_loss: 0.7035 - val_accuracy: 0.3941\n",
            "Epoch 25/50\n",
            "8/8 [==============================] - 6s 725ms/step - loss: 0.6154 - accuracy: 0.6280 - val_loss: 0.6912 - val_accuracy: 0.5381\n",
            "Epoch 26/50\n",
            "8/8 [==============================] - 4s 533ms/step - loss: 0.6161 - accuracy: 0.6313 - val_loss: 0.6905 - val_accuracy: 0.5381\n",
            "Epoch 27/50\n",
            "8/8 [==============================] - 4s 535ms/step - loss: 0.6032 - accuracy: 0.6126 - val_loss: 0.6894 - val_accuracy: 0.5424\n",
            "Epoch 28/50\n",
            "8/8 [==============================] - 5s 648ms/step - loss: 0.5965 - accuracy: 0.6468 - val_loss: 0.6841 - val_accuracy: 0.5932\n",
            "Epoch 29/50\n",
            "8/8 [==============================] - 4s 529ms/step - loss: 0.5933 - accuracy: 0.6291 - val_loss: 0.6800 - val_accuracy: 0.6229\n",
            "Epoch 30/50\n",
            "8/8 [==============================] - 4s 497ms/step - loss: 0.5806 - accuracy: 0.6302 - val_loss: 0.6647 - val_accuracy: 0.6314\n",
            "Epoch 31/50\n",
            "8/8 [==============================] - 6s 676ms/step - loss: 0.5656 - accuracy: 0.7395 - val_loss: 0.6547 - val_accuracy: 0.6483\n",
            "Epoch 32/50\n",
            "8/8 [==============================] - 4s 525ms/step - loss: 0.5525 - accuracy: 0.7583 - val_loss: 0.6371 - val_accuracy: 0.6695\n",
            "Epoch 33/50\n",
            "8/8 [==============================] - 4s 535ms/step - loss: 0.5419 - accuracy: 0.7472 - val_loss: 0.6272 - val_accuracy: 0.6695\n",
            "Epoch 34/50\n",
            "8/8 [==============================] - 6s 671ms/step - loss: 0.5028 - accuracy: 0.7859 - val_loss: 0.6188 - val_accuracy: 0.6610\n",
            "Epoch 35/50\n",
            "8/8 [==============================] - 5s 620ms/step - loss: 0.4942 - accuracy: 0.7903 - val_loss: 0.6066 - val_accuracy: 0.6822\n",
            "Epoch 36/50\n",
            "8/8 [==============================] - 4s 561ms/step - loss: 0.4713 - accuracy: 0.8057 - val_loss: 0.5955 - val_accuracy: 0.6907\n",
            "Epoch 37/50\n",
            "8/8 [==============================] - 5s 642ms/step - loss: 0.4482 - accuracy: 0.8146 - val_loss: 0.5772 - val_accuracy: 0.6907\n",
            "Epoch 38/50\n",
            "8/8 [==============================] - 4s 494ms/step - loss: 0.4340 - accuracy: 0.8168 - val_loss: 0.5616 - val_accuracy: 0.7076\n",
            "Epoch 39/50\n",
            "8/8 [==============================] - 4s 503ms/step - loss: 0.4029 - accuracy: 0.8411 - val_loss: 0.5542 - val_accuracy: 0.7203\n",
            "Epoch 40/50\n",
            "8/8 [==============================] - 8s 933ms/step - loss: 0.3993 - accuracy: 0.8201 - val_loss: 0.5390 - val_accuracy: 0.7246\n",
            "Epoch 41/50\n",
            "8/8 [==============================] - 4s 497ms/step - loss: 0.3826 - accuracy: 0.8311 - val_loss: 0.5310 - val_accuracy: 0.7669\n",
            "Epoch 42/50\n",
            "8/8 [==============================] - 4s 544ms/step - loss: 0.3491 - accuracy: 0.8653 - val_loss: 0.5359 - val_accuracy: 0.7924\n",
            "Epoch 43/50\n",
            "8/8 [==============================] - 6s 649ms/step - loss: 0.3283 - accuracy: 0.8863 - val_loss: 0.5130 - val_accuracy: 0.8051\n",
            "Epoch 44/50\n",
            "8/8 [==============================] - 4s 492ms/step - loss: 0.3378 - accuracy: 0.8598 - val_loss: 0.5163 - val_accuracy: 0.8008\n",
            "Epoch 45/50\n",
            "8/8 [==============================] - 4s 540ms/step - loss: 0.3173 - accuracy: 0.8896 - val_loss: 0.5254 - val_accuracy: 0.7966\n",
            "Epoch 46/50\n",
            "8/8 [==============================] - 6s 676ms/step - loss: 0.3029 - accuracy: 0.8929 - val_loss: 0.5428 - val_accuracy: 0.7881\n",
            "Epoch 47/50\n",
            "8/8 [==============================] - 4s 530ms/step - loss: 0.2873 - accuracy: 0.9018 - val_loss: 0.5200 - val_accuracy: 0.7924\n",
            "Epoch 48/50\n",
            "8/8 [==============================] - 4s 541ms/step - loss: 0.3111 - accuracy: 0.8863 - val_loss: 0.5444 - val_accuracy: 0.7797\n",
            "Epoch 49/50\n",
            "8/8 [==============================] - 6s 686ms/step - loss: 0.3029 - accuracy: 0.8830 - val_loss: 0.7178 - val_accuracy: 0.6271\n",
            "Epoch 50/50\n",
            "8/8 [==============================] - 4s 529ms/step - loss: 0.2687 - accuracy: 0.9084 - val_loss: 0.6635 - val_accuracy: 0.6653\n",
            "8/8 [==============================] - 0s 44ms/step - loss: 0.6635 - accuracy: 0.6653\n",
            "Epoch 1/50\n",
            "8/8 [==============================] - 6s 594ms/step - loss: 0.7089 - accuracy: 0.4895 - val_loss: 0.6986 - val_accuracy: 0.3064\n",
            "Epoch 2/50\n",
            "8/8 [==============================] - 5s 669ms/step - loss: 0.6989 - accuracy: 0.4796 - val_loss: 0.6854 - val_accuracy: 0.6936\n",
            "Epoch 3/50\n",
            "8/8 [==============================] - 5s 577ms/step - loss: 0.6940 - accuracy: 0.4862 - val_loss: 0.6778 - val_accuracy: 0.6936\n",
            "Epoch 4/50\n",
            "8/8 [==============================] - 4s 499ms/step - loss: 0.6919 - accuracy: 0.5083 - val_loss: 0.6726 - val_accuracy: 0.6936\n",
            "Epoch 5/50\n",
            "8/8 [==============================] - 5s 606ms/step - loss: 0.6903 - accuracy: 0.5094 - val_loss: 0.6683 - val_accuracy: 0.6936\n",
            "Epoch 6/50\n",
            "8/8 [==============================] - 5s 604ms/step - loss: 0.6888 - accuracy: 0.5105 - val_loss: 0.6647 - val_accuracy: 0.6936\n",
            "Epoch 7/50\n",
            "8/8 [==============================] - 4s 497ms/step - loss: 0.6871 - accuracy: 0.5105 - val_loss: 0.6656 - val_accuracy: 0.6936\n",
            "Epoch 8/50\n",
            "8/8 [==============================] - 5s 593ms/step - loss: 0.6855 - accuracy: 0.5105 - val_loss: 0.6657 - val_accuracy: 0.6936\n",
            "Epoch 9/50\n",
            "8/8 [==============================] - 5s 580ms/step - loss: 0.6827 - accuracy: 0.5105 - val_loss: 0.6677 - val_accuracy: 0.6936\n",
            "Epoch 10/50\n",
            "8/8 [==============================] - 4s 532ms/step - loss: 0.6802 - accuracy: 0.5105 - val_loss: 0.6717 - val_accuracy: 0.6936\n",
            "Epoch 11/50\n",
            "8/8 [==============================] - 5s 661ms/step - loss: 0.6772 - accuracy: 0.5105 - val_loss: 0.6736 - val_accuracy: 0.6936\n",
            "Epoch 12/50\n",
            "8/8 [==============================] - 5s 586ms/step - loss: 0.6706 - accuracy: 0.5138 - val_loss: 0.6752 - val_accuracy: 0.6936\n",
            "Epoch 13/50\n",
            "8/8 [==============================] - 4s 537ms/step - loss: 0.6622 - accuracy: 0.5700 - val_loss: 0.6846 - val_accuracy: 0.6043\n",
            "Epoch 14/50\n",
            "8/8 [==============================] - 5s 658ms/step - loss: 0.6578 - accuracy: 0.5711 - val_loss: 0.7015 - val_accuracy: 0.3915\n",
            "Epoch 15/50\n",
            "8/8 [==============================] - 5s 573ms/step - loss: 0.6458 - accuracy: 0.6626 - val_loss: 0.7152 - val_accuracy: 0.3489\n",
            "Epoch 16/50\n",
            "8/8 [==============================] - 6s 721ms/step - loss: 0.6304 - accuracy: 0.6935 - val_loss: 0.7184 - val_accuracy: 0.3745\n",
            "Epoch 17/50\n",
            "8/8 [==============================] - 6s 724ms/step - loss: 0.6077 - accuracy: 0.7122 - val_loss: 0.7557 - val_accuracy: 0.3489\n",
            "Epoch 18/50\n",
            "8/8 [==============================] - 4s 534ms/step - loss: 0.6050 - accuracy: 0.6891 - val_loss: 0.7565 - val_accuracy: 0.3660\n",
            "Epoch 19/50\n",
            "8/8 [==============================] - 4s 499ms/step - loss: 0.5730 - accuracy: 0.6990 - val_loss: 0.7300 - val_accuracy: 0.4298\n",
            "Epoch 20/50\n",
            "8/8 [==============================] - 6s 776ms/step - loss: 0.5555 - accuracy: 0.7442 - val_loss: 0.7530 - val_accuracy: 0.3915\n",
            "Epoch 21/50\n",
            "8/8 [==============================] - 4s 493ms/step - loss: 0.5467 - accuracy: 0.7310 - val_loss: 0.7951 - val_accuracy: 0.3702\n",
            "Epoch 22/50\n",
            "8/8 [==============================] - 4s 532ms/step - loss: 0.5169 - accuracy: 0.7530 - val_loss: 0.7237 - val_accuracy: 0.4766\n",
            "Epoch 23/50\n",
            "8/8 [==============================] - 6s 737ms/step - loss: 0.4873 - accuracy: 0.7872 - val_loss: 0.6723 - val_accuracy: 0.6213\n",
            "Epoch 24/50\n",
            "8/8 [==============================] - 4s 539ms/step - loss: 0.4490 - accuracy: 0.8236 - val_loss: 0.6363 - val_accuracy: 0.6128\n",
            "Epoch 25/50\n",
            "8/8 [==============================] - 4s 535ms/step - loss: 0.4441 - accuracy: 0.8026 - val_loss: 0.6346 - val_accuracy: 0.6255\n",
            "Epoch 26/50\n",
            "8/8 [==============================] - 6s 774ms/step - loss: 0.4146 - accuracy: 0.8225 - val_loss: 0.6072 - val_accuracy: 0.6723\n",
            "Epoch 27/50\n",
            "8/8 [==============================] - 4s 539ms/step - loss: 0.3657 - accuracy: 0.8644 - val_loss: 0.5898 - val_accuracy: 0.6979\n",
            "Epoch 28/50\n",
            "8/8 [==============================] - 4s 549ms/step - loss: 0.3676 - accuracy: 0.8567 - val_loss: 0.5795 - val_accuracy: 0.6894\n",
            "Epoch 29/50\n",
            "8/8 [==============================] - 6s 761ms/step - loss: 0.3366 - accuracy: 0.8677 - val_loss: 0.5769 - val_accuracy: 0.6979\n",
            "Epoch 30/50\n",
            "8/8 [==============================] - 4s 499ms/step - loss: 0.3108 - accuracy: 0.8908 - val_loss: 0.6286 - val_accuracy: 0.6936\n",
            "Epoch 31/50\n",
            "8/8 [==============================] - 4s 502ms/step - loss: 0.2914 - accuracy: 0.8986 - val_loss: 0.6166 - val_accuracy: 0.6979\n",
            "Epoch 32/50\n",
            "8/8 [==============================] - 6s 724ms/step - loss: 0.2705 - accuracy: 0.9162 - val_loss: 0.6772 - val_accuracy: 0.6936\n",
            "Epoch 33/50\n",
            "8/8 [==============================] - 4s 536ms/step - loss: 0.2621 - accuracy: 0.9107 - val_loss: 0.7168 - val_accuracy: 0.6936\n",
            "Epoch 34/50\n",
            "8/8 [==============================] - 4s 499ms/step - loss: 0.2650 - accuracy: 0.9063 - val_loss: 0.8262 - val_accuracy: 0.6936\n",
            "Epoch 35/50\n",
            "8/8 [==============================] - 6s 748ms/step - loss: 0.2562 - accuracy: 0.9261 - val_loss: 0.9030 - val_accuracy: 0.6936\n",
            "Epoch 36/50\n",
            "8/8 [==============================] - 4s 531ms/step - loss: 0.2505 - accuracy: 0.9217 - val_loss: 0.9084 - val_accuracy: 0.6936\n",
            "Epoch 37/50\n",
            "8/8 [==============================] - 4s 493ms/step - loss: 0.2312 - accuracy: 0.9405 - val_loss: 0.9582 - val_accuracy: 0.6936\n",
            "Epoch 38/50\n",
            "8/8 [==============================] - 6s 735ms/step - loss: 0.2339 - accuracy: 0.9195 - val_loss: 0.8665 - val_accuracy: 0.6936\n",
            "Epoch 39/50\n",
            "8/8 [==============================] - 4s 503ms/step - loss: 0.2553 - accuracy: 0.9140 - val_loss: 0.9597 - val_accuracy: 0.6936\n",
            "Epoch 40/50\n",
            "8/8 [==============================] - 4s 547ms/step - loss: 0.2309 - accuracy: 0.9228 - val_loss: 0.8587 - val_accuracy: 0.6936\n",
            "Epoch 41/50\n",
            "8/8 [==============================] - 6s 741ms/step - loss: 0.2244 - accuracy: 0.9272 - val_loss: 0.9650 - val_accuracy: 0.6936\n",
            "Epoch 42/50\n",
            "8/8 [==============================] - 4s 535ms/step - loss: 0.2302 - accuracy: 0.9272 - val_loss: 1.0154 - val_accuracy: 0.6936\n",
            "Epoch 43/50\n",
            "8/8 [==============================] - 4s 506ms/step - loss: 0.2068 - accuracy: 0.9372 - val_loss: 0.8974 - val_accuracy: 0.6936\n",
            "Epoch 44/50\n",
            "8/8 [==============================] - 6s 729ms/step - loss: 0.2365 - accuracy: 0.8942 - val_loss: 1.0342 - val_accuracy: 0.6936\n",
            "Epoch 45/50\n",
            "8/8 [==============================] - 4s 503ms/step - loss: 0.2022 - accuracy: 0.9504 - val_loss: 0.9695 - val_accuracy: 0.6936\n",
            "Epoch 46/50\n",
            "8/8 [==============================] - 4s 548ms/step - loss: 0.2191 - accuracy: 0.9316 - val_loss: 0.9945 - val_accuracy: 0.6936\n",
            "Epoch 47/50\n",
            "8/8 [==============================] - 6s 740ms/step - loss: 0.2023 - accuracy: 0.9383 - val_loss: 0.8754 - val_accuracy: 0.6936\n",
            "Epoch 48/50\n",
            "8/8 [==============================] - 4s 549ms/step - loss: 0.1914 - accuracy: 0.9416 - val_loss: 1.0681 - val_accuracy: 0.6936\n",
            "Epoch 49/50\n",
            "8/8 [==============================] - 4s 501ms/step - loss: 0.1873 - accuracy: 0.9372 - val_loss: 0.8944 - val_accuracy: 0.6936\n",
            "Epoch 50/50\n",
            "8/8 [==============================] - 5s 716ms/step - loss: 0.1757 - accuracy: 0.9449 - val_loss: 1.0130 - val_accuracy: 0.6936\n",
            "8/8 [==============================] - 0s 46ms/step - loss: 1.0130 - accuracy: 0.6936\n"
          ]
        }
      ]
    },
    {
      "cell_type": "code",
      "source": [
        "np.mean(accuracy)"
      ],
      "metadata": {
        "colab": {
          "base_uri": "https://localhost:8080/"
        },
        "id": "sTvqPHM-GqT-",
        "outputId": "02d692e6-3907-4feb-da16-e592497316d8"
      },
      "execution_count": 20,
      "outputs": [
        {
          "output_type": "execute_result",
          "data": {
            "text/plain": [
              "0.6519461870193481"
            ]
          },
          "metadata": {},
          "execution_count": 20
        }
      ]
    }
  ]
}