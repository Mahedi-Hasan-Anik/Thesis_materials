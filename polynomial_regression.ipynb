{
  "nbformat": 4,
  "nbformat_minor": 0,
  "metadata": {
    "colab": {
      "provenance": [],
      "authorship_tag": "ABX9TyM5uml4ttoXaH9m402O3DNT",
      "include_colab_link": true
    },
    "kernelspec": {
      "name": "python3",
      "display_name": "Python 3"
    },
    "language_info": {
      "name": "python"
    }
  },
  "cells": [
    {
      "cell_type": "markdown",
      "metadata": {
        "id": "view-in-github",
        "colab_type": "text"
      },
      "source": [
        "<a href=\"https://colab.research.google.com/github/Mahedi-Hasan-Anik/Thesis_materials/blob/main/polynomial_regression.ipynb\" target=\"_parent\"><img src=\"https://colab.research.google.com/assets/colab-badge.svg\" alt=\"Open In Colab\"/></a>"
      ]
    },
    {
      "cell_type": "code",
      "execution_count": null,
      "metadata": {
        "id": "KwJ8Iqe2lLvH"
      },
      "outputs": [],
      "source": [
        "import pandas as pd\n",
        "from sklearn.preprocessing import PolynomialFeatures\n",
        "from sklearn.linear_model import LinearRegression\n",
        "from sklearn.metrics import mean_squared_error\n",
        "from sklearn.metrics import r2_score"
      ]
    },
    {
      "cell_type": "code",
      "source": [
        "data = pd.read_csv(\"EEG_Eye_State_Classification.csv\")"
      ],
      "metadata": {
        "id": "6l95Lc2eldIy"
      },
      "execution_count": 3,
      "outputs": []
    },
    {
      "cell_type": "code",
      "source": [
        "# Select the features(independent and dependent variable)\n",
        "X = data.drop('eyeDetection',axis=1)\n",
        "y = data['eyeDetection']"
      ],
      "metadata": {
        "id": "0FRNjAZzmAWF"
      },
      "execution_count": 4,
      "outputs": []
    },
    {
      "cell_type": "code",
      "source": [
        "# Define the degree of the polynomial\n",
        "degree = 5"
      ],
      "metadata": {
        "id": "r1lzFuHFmLUE"
      },
      "execution_count": 15,
      "outputs": []
    },
    {
      "cell_type": "code",
      "source": [
        "# Create a PolynomialFeatures object\n",
        "poly = PolynomialFeatures(degree=degree)"
      ],
      "metadata": {
        "id": "Uj5NzW3XmNo1"
      },
      "execution_count": 16,
      "outputs": []
    },
    {
      "cell_type": "code",
      "source": [
        "# Transform the features using PolynomialFeatures\n",
        "X_poly = poly.fit_transform(X)"
      ],
      "metadata": {
        "id": "uBFbpJV0mQ-n"
      },
      "execution_count": 17,
      "outputs": []
    },
    {
      "cell_type": "code",
      "source": [
        "# Create a LinearRegression object\n",
        "model = LinearRegression()"
      ],
      "metadata": {
        "id": "zez4upLMmgGp"
      },
      "execution_count": 18,
      "outputs": []
    },
    {
      "cell_type": "code",
      "source": [
        "# Train the model using the transformed features\n",
        "model.fit(X_poly, y)"
      ],
      "metadata": {
        "id": "ahkhZSoxmjBP"
      },
      "execution_count": null,
      "outputs": []
    },
    {
      "cell_type": "code",
      "source": [
        "# Make predictions on the test data\n",
        "y_predict = model.predict(X_poly)"
      ],
      "metadata": {
        "id": "0khxjaJym1ZR"
      },
      "execution_count": null,
      "outputs": []
    },
    {
      "cell_type": "code",
      "source": [
        "# Evaluate the performance of the model\n",
        "mse = mean_squared_error(y, y_predict)\n",
        "print(\"Mean Squared Error:\", mse)"
      ],
      "metadata": {
        "id": "IvUzCMtKm5Oj"
      },
      "execution_count": null,
      "outputs": []
    },
    {
      "cell_type": "code",
      "source": [
        "# Calculate the accuracy\n",
        "accuracy = r2_score(y_test, y_pred)\n",
        "print(\"Accuracy:\", accuracy)"
      ],
      "metadata": {
        "id": "bysm3Wh-nxe_"
      },
      "execution_count": null,
      "outputs": []
    }
  ]
}