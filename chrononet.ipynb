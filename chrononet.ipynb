{
  "nbformat": 4,
  "nbformat_minor": 0,
  "metadata": {
    "colab": {
      "provenance": [],
      "mount_file_id": "17KTnXz2NnLnURW33aB3Km6fmaNnpzDC1",
      "authorship_tag": "ABX9TyNF5pPKgVYo0eA/daqf9/qj",
      "include_colab_link": true
    },
    "kernelspec": {
      "name": "python3",
      "display_name": "Python 3"
    },
    "language_info": {
      "name": "python"
    }
  },
  "cells": [
    {
      "cell_type": "markdown",
      "metadata": {
        "id": "view-in-github",
        "colab_type": "text"
      },
      "source": [
        "<a href=\"https://colab.research.google.com/github/Mahedi-Hasan-Anik/Thesis_materials/blob/main/chrononet.ipynb\" target=\"_parent\"><img src=\"https://colab.research.google.com/assets/colab-badge.svg\" alt=\"Open In Colab\"/></a>"
      ]
    },
    {
      "cell_type": "code",
      "execution_count": 9,
      "metadata": {
        "colab": {
          "base_uri": "https://localhost:8080/"
        },
        "id": "r9sTyT1CHzuJ",
        "outputId": "47e049a0-6010-4370-a5b1-b8f10eedb460"
      },
      "outputs": [
        {
          "output_type": "execute_result",
          "data": {
            "text/plain": [
              "torch.Size([3, 22, 15000])"
            ]
          },
          "metadata": {},
          "execution_count": 9
        }
      ],
      "source": [
        "import torch\n",
        "import torch.nn as nn\n",
        "input = torch.randn(3,22,15000)\n",
        "input.shape"
      ]
    },
    {
      "cell_type": "code",
      "source": [
        " #1D convulation layer it accept input channel ,output channel ,karnel_size,stride,padding\n",
        "#  nn.Conv1d(in_channels=22 ,out_channess=33, kernel_size=2, stride=2, padding=0)\n",
        "nn.Conv1d(in_channels=22, out_channels=33, kernel_size=2, stride=2, padding=0)"
      ],
      "metadata": {
        "colab": {
          "base_uri": "https://localhost:8080/"
        },
        "id": "YYAgStljIKF3",
        "outputId": "93d6519f-01d8-46b0-c73a-bee74eb261db"
      },
      "execution_count": 11,
      "outputs": [
        {
          "output_type": "execute_result",
          "data": {
            "text/plain": [
              "Conv1d(22, 33, kernel_size=(2,), stride=(2,))"
            ]
          },
          "metadata": {},
          "execution_count": 11
        }
      ]
    },
    {
      "cell_type": "code",
      "source": [
        "class Block(nn.Module):\n",
        "  def __init__(self,inplace):\n",
        "    super().__init__()\n",
        "    self.conv1 = nn.Conv1d(in_channels=inplace, out_channels=32,kernel_size=2, stride=2, padding=0)\n",
        "    self.conv2 = nn.Conv1d(in_channels=inplace, out_channels=32,kernel_size=4, stride=2, padding=1)\n",
        "    self.conv3 = nn.Conv1d(in_channels=inplace, out_channels=32,kernel_size=8, stride=2, padding=3)\n",
        "    self.relu = nn.ReLU()\n",
        "\n",
        "  def forward(self,x):\n",
        "    x1=self.conv1(x)\n",
        "    x2=self.conv2(x)\n",
        "    x3=self.conv3(x)\n",
        "    x= torch.cat([x1,x2,x3],dim=1)\n",
        "    return x"
      ],
      "metadata": {
        "id": "NUjrNXYua45H"
      },
      "execution_count": 27,
      "outputs": []
    },
    {
      "cell_type": "code",
      "source": [
        "block = Block(22)\n",
        "out1=block(input)\n",
        "out1.shape"
      ],
      "metadata": {
        "colab": {
          "base_uri": "https://localhost:8080/"
        },
        "id": "RKw9Od_AdQHg",
        "outputId": "d0abc264-b614-41e1-c215-ee49f14ee226"
      },
      "execution_count": 28,
      "outputs": [
        {
          "output_type": "execute_result",
          "data": {
            "text/plain": [
              "torch.Size([3, 96, 7500])"
            ]
          },
          "metadata": {},
          "execution_count": 28
        }
      ]
    },
    {
      "cell_type": "code",
      "source": [
        "block = Block(96)\n",
        "out2=block(out1)\n",
        "out2.shape"
      ],
      "metadata": {
        "colab": {
          "base_uri": "https://localhost:8080/"
        },
        "id": "8VEfL3Nff6u2",
        "outputId": "d3f69aba-f6e0-4905-b8f9-2e83eb85d2de"
      },
      "execution_count": 31,
      "outputs": [
        {
          "output_type": "execute_result",
          "data": {
            "text/plain": [
              "torch.Size([3, 96, 3750])"
            ]
          },
          "metadata": {},
          "execution_count": 31
        }
      ]
    },
    {
      "cell_type": "code",
      "source": [
        "block = Block(96)\n",
        "out3=block(out2)\n",
        "out3.shape"
      ],
      "metadata": {
        "colab": {
          "base_uri": "https://localhost:8080/"
        },
        "id": "6V55iWCdgI-J",
        "outputId": "d434db84-9be7-46a0-ee70-0024462ad9cc"
      },
      "execution_count": 32,
      "outputs": [
        {
          "output_type": "execute_result",
          "data": {
            "text/plain": [
              "torch.Size([3, 96, 1875])"
            ]
          },
          "metadata": {},
          "execution_count": 32
        }
      ]
    },
    {
      "cell_type": "code",
      "source": [],
      "metadata": {
        "id": "HPU1w0M3gImq"
      },
      "execution_count": null,
      "outputs": []
    }
  ]
}